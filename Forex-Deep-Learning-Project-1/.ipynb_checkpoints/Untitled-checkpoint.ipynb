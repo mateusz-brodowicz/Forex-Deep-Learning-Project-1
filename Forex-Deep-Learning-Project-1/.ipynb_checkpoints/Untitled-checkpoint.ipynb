{
 "cells": [
  {
   "cell_type": "code",
   "execution_count": 1,
   "metadata": {},
   "outputs": [
    {
     "name": "stderr",
     "output_type": "stream",
     "text": [
      "Using TensorFlow backend.\n"
     ]
    },
    {
     "data": {
      "text/html": [
       "<style>.container { width:100% !important; }</style>"
      ],
      "text/plain": [
       "<IPython.core.display.HTML object>"
      ]
     },
     "metadata": {},
     "output_type": "display_data"
    }
   ],
   "source": [
    "import pandas as pd \n",
    "import numpy as np\n",
    "import tensorflow as tf\n",
    "import requests as r\n",
    "from os import listdir\n",
    "import seaborn as sns\n",
    "from os.path import isfile, join\n",
    "import pandas_datareader as pdr\n",
    "import matplotlib.dates as mdates\n",
    "import matplotlib.ticker as mticker\n",
    "import mpl_finance\n",
    "from mpl_finance import candlestick2_ochl\n",
    "import matplotlib.pyplot as plt\n",
    "import matplotlib\n",
    "from datetime import datetime\n",
    "from numpy.random import randn\n",
    "from numpy.random import seed\n",
    "from scipy.stats import pearsonr\n",
    "from keras.models import Sequential\n",
    "from keras.layers import Dense, Activation\n",
    "matplotlib.use('TkAgg')\n",
    "from IPython.core.display import display, HTML\n",
    "display(HTML(\"<style>.container { width:100% !important; }</style>\"))"
   ]
  },
  {
   "cell_type": "code",
   "execution_count": 2,
   "metadata": {},
   "outputs": [],
   "source": [
    "#data format specified for data gotten from https://www.dukascopy.com/swiss/english/marketwatch/historical/\n",
    "class Dukascopy_Historical_Data:\n",
    "    \n",
    "    def __init__(self,folder_path):\n",
    "        self.folder_path = folder_path                                                                                 #name of the folder containing forex timeseries data     \n",
    "        self.filenames = [name for name in listdir(folder_path)]                                                       #extract all the file names in the folder\n",
    "        self.tickers = [filename.split('_')[0] for filename in self.filenames]                                         #extract ticker name from the file names\n",
    "        self.candlestick = self.filenames[0].split('_')[2] + ' ' + self.filenames[0].split('_')[3]                     #extract candlestick size from the filenames (assumption: candlestick size is the same for all the files\n",
    "        self.bid_ask = self.filenames[0].split('_')[4]                                                                 #are these bid prices or ask prices contained in the data?\n",
    "        self.time_frame = self.filenames[0].split('_')[5].split('.')[0]                                                #start time and end time\n",
    "        \n",
    "    def pd(self):\n",
    "        dict_ = {}                                                                                                     #create a dictionary such that {ticker: pd.DataFrame(OCHL data)} for each ticker in self.tickers\n",
    "        for ticker,filename in zip(self.tickers,self.filenames):\n",
    "            dict_[ticker] = pd.read_csv(self.folder_path+f'\\\\{filename}')\n",
    "            dict_[ticker].set_index(['Gmt time'],inplace=True)\n",
    "            dict_[ticker].set_index(pd.to_datetime(dict_[ticker].index,\n",
    "                                                   infer_datetime_format=True),inplace=True)\n",
    "        return dict_"
   ]
  },
  {
   "cell_type": "code",
   "execution_count": 3,
   "metadata": {},
   "outputs": [],
   "source": [
    "class Currency_Pair:\n",
    "    \n",
    "    def __init__(self,ticker,candlestick,dataset):                                                                      #dataset assumed to be Dukascopy_Historical_Data object\n",
    "        self.ticker = ticker                                                                        \n",
    "        self.candlestick = candlestick                                                                                  #candlestick as fraction of 1 hour. eg 15min candlestick is 1/4\n",
    "        self.data = dataset.pd()[self.ticker]                                                                           #data in pd.DataFrame()\n",
    "        \n",
    "    #short_long = -1 {short trade}, short_long = 1 {long trade}    \n",
    "    def return_in_t(self,trade_type,start_date,end_date,):                                                              #trade simulation. given long or short opened at \"start_date\" compute return at \"close_date\"\n",
    "        short_long = {'Short':-1,'Long':1}                                                                              #trade type coefficient\n",
    "        output = ((self.data[end_date]['Close'][0]-self.data[start_date]['Close'][0])*short_long[trade_type],           #trades are entered end exited at \"Close\" price. return tuple s.t (net profit (commision excluded),\n",
    "                  (self.data[end_date]['Close'][0]/self.data[start_date]['Close'][0] - 1)*short_long[trade_type])       #                                                                  gain percentage))\n",
    "        return output"
   ]
  },
  {
   "cell_type": "code",
   "execution_count": 4,
   "metadata": {},
   "outputs": [],
   "source": [
    "class Predictive_Model:\n",
    "    \n",
    "    def __init__(self,data,train_size_perc):\n",
    "        self.data = data                                                                                                #a pd.DataFrame()\n",
    "        self.train_size_perc = train_size_perc                                                                          #what portion of the given data is the model training on?\n",
    "        self.training_set = self.data.iloc[:int(self.data.size*train_size_perc)]                                        #index the data set according to the above\n",
    "        self.testing_set = self.self.data.iloc[int(self.data.size*train_size_perc):]                                    #set the remaining data as test_data\n",
    "        \n",
    "    def supervised_prediction(self):\n",
    "        X,y = \n",
    "    "
   ]
  },
  {
   "cell_type": "code",
   "execution_count": 44,
   "metadata": {},
   "outputs": [],
   "source": [
    "class Data_Matrix:\n",
    "    \n",
    "    def __init__(self,dataset,ochl='Close'):\n",
    "        self.data = dataset                                                                                             #assumed to be Dukascopy_Historical_Data object\n",
    "        self.ochl = ochl                                                                                                #Open,High,Close,Low to be the price taken into account in computations\n",
    "        \n",
    "    def pearson_corr_matrix(self):                                                                                      #for each ticker give tuple s.t (cross-currency correlation coefficient, \n",
    "        output = pd.DataFrame(columns=self.data.tickers,                                                                #                           p-value for h0 -> data follows normal distribution)\n",
    "                              index=self.data.tickers)                                                                  #put tuples of each ticker pair in n*n matrix \n",
    "        for base in self.data.tickers:\n",
    "            for quote in self.data.tickers:\n",
    "                if base==quote:\n",
    "                    output[base][quote] = 1\n",
    "                else:\n",
    "                    output[base][quote] = pearsonr(self.data.pd()[base][self.ochl],\n",
    "                                                   self.data.pd()[quote][self.ochl])\n",
    "        return output\n",
    "    \n",
    "    def normality_test(self):\n",
    "        output = pd.DataFrame(columns=self.data.tickers,\n",
    "                              index=self.data.tickers)\n",
    "    \n",
    "    def multi_ticker_prices(self):\n",
    "        tickers = [ticker for ticker in self.data.tickers]\n",
    "        close_vals = [self.data.pd()[ticker][self.ochl] for ticker in tickers]\n",
    "        output = pd.DataFrame(dict(zip(tickers,close_vals)))\n",
    "        return output\n",
    "                               \n",
    "        \n",
    "    #+def strength_rating(self):"
   ]
  },
  {
   "cell_type": "code",
   "execution_count": 40,
   "metadata": {},
   "outputs": [],
   "source": [
    "data = Dukascopy_Historical_Data('1h_majors')"
   ]
  },
  {
   "cell_type": "code",
   "execution_count": 42,
   "metadata": {},
   "outputs": [],
   "source": [
    "multi_close = Data_Matrix(data).n_ticker_close()"
   ]
  },
  {
   "cell_type": "code",
   "execution_count": 50,
   "metadata": {},
   "outputs": [
    {
     "ename": "KeyError",
     "evalue": "\"['USDJPY'] not found in axis\"",
     "output_type": "error",
     "traceback": [
      "\u001b[1;31m---------------------------------------------------------------------------\u001b[0m",
      "\u001b[1;31mKeyError\u001b[0m                                  Traceback (most recent call last)",
      "\u001b[1;32m<ipython-input-50-dae062c6f94b>\u001b[0m in \u001b[0;36m<module>\u001b[1;34m\u001b[0m\n\u001b[1;32m----> 1\u001b[1;33m \u001b[0mmulti_close\u001b[0m\u001b[1;33m.\u001b[0m\u001b[0mdrop\u001b[0m\u001b[1;33m(\u001b[0m\u001b[1;34m'USDJPY'\u001b[0m\u001b[1;33m)\u001b[0m\u001b[1;33m.\u001b[0m\u001b[0mplot\u001b[0m\u001b[1;33m(\u001b[0m\u001b[1;33m)\u001b[0m\u001b[1;33m\u001b[0m\u001b[1;33m\u001b[0m\u001b[0m\n\u001b[0m",
      "\u001b[1;32m~\\Anaconda3\\lib\\site-packages\\pandas\\core\\frame.py\u001b[0m in \u001b[0;36mdrop\u001b[1;34m(self, labels, axis, index, columns, level, inplace, errors)\u001b[0m\n\u001b[0;32m   3938\u001b[0m                                            \u001b[0mindex\u001b[0m\u001b[1;33m=\u001b[0m\u001b[0mindex\u001b[0m\u001b[1;33m,\u001b[0m \u001b[0mcolumns\u001b[0m\u001b[1;33m=\u001b[0m\u001b[0mcolumns\u001b[0m\u001b[1;33m,\u001b[0m\u001b[1;33m\u001b[0m\u001b[1;33m\u001b[0m\u001b[0m\n\u001b[0;32m   3939\u001b[0m                                            \u001b[0mlevel\u001b[0m\u001b[1;33m=\u001b[0m\u001b[0mlevel\u001b[0m\u001b[1;33m,\u001b[0m \u001b[0minplace\u001b[0m\u001b[1;33m=\u001b[0m\u001b[0minplace\u001b[0m\u001b[1;33m,\u001b[0m\u001b[1;33m\u001b[0m\u001b[1;33m\u001b[0m\u001b[0m\n\u001b[1;32m-> 3940\u001b[1;33m                                            errors=errors)\n\u001b[0m\u001b[0;32m   3941\u001b[0m \u001b[1;33m\u001b[0m\u001b[0m\n\u001b[0;32m   3942\u001b[0m     @rewrite_axis_style_signature('mapper', [('copy', True),\n",
      "\u001b[1;32m~\\Anaconda3\\lib\\site-packages\\pandas\\core\\generic.py\u001b[0m in \u001b[0;36mdrop\u001b[1;34m(self, labels, axis, index, columns, level, inplace, errors)\u001b[0m\n\u001b[0;32m   3778\u001b[0m         \u001b[1;32mfor\u001b[0m \u001b[0maxis\u001b[0m\u001b[1;33m,\u001b[0m \u001b[0mlabels\u001b[0m \u001b[1;32min\u001b[0m \u001b[0maxes\u001b[0m\u001b[1;33m.\u001b[0m\u001b[0mitems\u001b[0m\u001b[1;33m(\u001b[0m\u001b[1;33m)\u001b[0m\u001b[1;33m:\u001b[0m\u001b[1;33m\u001b[0m\u001b[1;33m\u001b[0m\u001b[0m\n\u001b[0;32m   3779\u001b[0m             \u001b[1;32mif\u001b[0m \u001b[0mlabels\u001b[0m \u001b[1;32mis\u001b[0m \u001b[1;32mnot\u001b[0m \u001b[1;32mNone\u001b[0m\u001b[1;33m:\u001b[0m\u001b[1;33m\u001b[0m\u001b[1;33m\u001b[0m\u001b[0m\n\u001b[1;32m-> 3780\u001b[1;33m                 \u001b[0mobj\u001b[0m \u001b[1;33m=\u001b[0m \u001b[0mobj\u001b[0m\u001b[1;33m.\u001b[0m\u001b[0m_drop_axis\u001b[0m\u001b[1;33m(\u001b[0m\u001b[0mlabels\u001b[0m\u001b[1;33m,\u001b[0m \u001b[0maxis\u001b[0m\u001b[1;33m,\u001b[0m \u001b[0mlevel\u001b[0m\u001b[1;33m=\u001b[0m\u001b[0mlevel\u001b[0m\u001b[1;33m,\u001b[0m \u001b[0merrors\u001b[0m\u001b[1;33m=\u001b[0m\u001b[0merrors\u001b[0m\u001b[1;33m)\u001b[0m\u001b[1;33m\u001b[0m\u001b[1;33m\u001b[0m\u001b[0m\n\u001b[0m\u001b[0;32m   3781\u001b[0m \u001b[1;33m\u001b[0m\u001b[0m\n\u001b[0;32m   3782\u001b[0m         \u001b[1;32mif\u001b[0m \u001b[0minplace\u001b[0m\u001b[1;33m:\u001b[0m\u001b[1;33m\u001b[0m\u001b[1;33m\u001b[0m\u001b[0m\n",
      "\u001b[1;32m~\\Anaconda3\\lib\\site-packages\\pandas\\core\\generic.py\u001b[0m in \u001b[0;36m_drop_axis\u001b[1;34m(self, labels, axis, level, errors)\u001b[0m\n\u001b[0;32m   3810\u001b[0m                 \u001b[0mnew_axis\u001b[0m \u001b[1;33m=\u001b[0m \u001b[0maxis\u001b[0m\u001b[1;33m.\u001b[0m\u001b[0mdrop\u001b[0m\u001b[1;33m(\u001b[0m\u001b[0mlabels\u001b[0m\u001b[1;33m,\u001b[0m \u001b[0mlevel\u001b[0m\u001b[1;33m=\u001b[0m\u001b[0mlevel\u001b[0m\u001b[1;33m,\u001b[0m \u001b[0merrors\u001b[0m\u001b[1;33m=\u001b[0m\u001b[0merrors\u001b[0m\u001b[1;33m)\u001b[0m\u001b[1;33m\u001b[0m\u001b[1;33m\u001b[0m\u001b[0m\n\u001b[0;32m   3811\u001b[0m             \u001b[1;32melse\u001b[0m\u001b[1;33m:\u001b[0m\u001b[1;33m\u001b[0m\u001b[1;33m\u001b[0m\u001b[0m\n\u001b[1;32m-> 3812\u001b[1;33m                 \u001b[0mnew_axis\u001b[0m \u001b[1;33m=\u001b[0m \u001b[0maxis\u001b[0m\u001b[1;33m.\u001b[0m\u001b[0mdrop\u001b[0m\u001b[1;33m(\u001b[0m\u001b[0mlabels\u001b[0m\u001b[1;33m,\u001b[0m \u001b[0merrors\u001b[0m\u001b[1;33m=\u001b[0m\u001b[0merrors\u001b[0m\u001b[1;33m)\u001b[0m\u001b[1;33m\u001b[0m\u001b[1;33m\u001b[0m\u001b[0m\n\u001b[0m\u001b[0;32m   3813\u001b[0m             \u001b[0mresult\u001b[0m \u001b[1;33m=\u001b[0m \u001b[0mself\u001b[0m\u001b[1;33m.\u001b[0m\u001b[0mreindex\u001b[0m\u001b[1;33m(\u001b[0m\u001b[1;33m**\u001b[0m\u001b[1;33m{\u001b[0m\u001b[0maxis_name\u001b[0m\u001b[1;33m:\u001b[0m \u001b[0mnew_axis\u001b[0m\u001b[1;33m}\u001b[0m\u001b[1;33m)\u001b[0m\u001b[1;33m\u001b[0m\u001b[1;33m\u001b[0m\u001b[0m\n\u001b[0;32m   3814\u001b[0m \u001b[1;33m\u001b[0m\u001b[0m\n",
      "\u001b[1;32m~\\Anaconda3\\lib\\site-packages\\pandas\\core\\indexes\\base.py\u001b[0m in \u001b[0;36mdrop\u001b[1;34m(self, labels, errors)\u001b[0m\n\u001b[0;32m   4963\u001b[0m             \u001b[1;32mif\u001b[0m \u001b[0merrors\u001b[0m \u001b[1;33m!=\u001b[0m \u001b[1;34m'ignore'\u001b[0m\u001b[1;33m:\u001b[0m\u001b[1;33m\u001b[0m\u001b[1;33m\u001b[0m\u001b[0m\n\u001b[0;32m   4964\u001b[0m                 raise KeyError(\n\u001b[1;32m-> 4965\u001b[1;33m                     '{} not found in axis'.format(labels[mask]))\n\u001b[0m\u001b[0;32m   4966\u001b[0m             \u001b[0mindexer\u001b[0m \u001b[1;33m=\u001b[0m \u001b[0mindexer\u001b[0m\u001b[1;33m[\u001b[0m\u001b[1;33m~\u001b[0m\u001b[0mmask\u001b[0m\u001b[1;33m]\u001b[0m\u001b[1;33m\u001b[0m\u001b[1;33m\u001b[0m\u001b[0m\n\u001b[0;32m   4967\u001b[0m         \u001b[1;32mreturn\u001b[0m \u001b[0mself\u001b[0m\u001b[1;33m.\u001b[0m\u001b[0mdelete\u001b[0m\u001b[1;33m(\u001b[0m\u001b[0mindexer\u001b[0m\u001b[1;33m)\u001b[0m\u001b[1;33m\u001b[0m\u001b[1;33m\u001b[0m\u001b[0m\n",
      "\u001b[1;31mKeyError\u001b[0m: \"['USDJPY'] not found in axis\""
     ]
    }
   ],
   "source": [
    "multi_close.drop('USDJPY').plot()"
   ]
  },
  {
   "cell_type": "code",
   "execution_count": null,
   "metadata": {},
   "outputs": [],
   "source": []
  }
 ],
 "metadata": {
  "kernelspec": {
   "display_name": "Python 3",
   "language": "python",
   "name": "python3"
  },
  "language_info": {
   "codemirror_mode": {
    "name": "ipython",
    "version": 3
   },
   "file_extension": ".py",
   "mimetype": "text/x-python",
   "name": "python",
   "nbconvert_exporter": "python",
   "pygments_lexer": "ipython3",
   "version": "3.7.3"
  }
 },
 "nbformat": 4,
 "nbformat_minor": 2
}
